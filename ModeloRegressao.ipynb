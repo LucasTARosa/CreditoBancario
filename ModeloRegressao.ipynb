{
 "cells": [
  {
   "cell_type": "markdown",
   "id": "c8b49071",
   "metadata": {},
   "source": [
    "# Continuação do projeto de um modelo de regressão para determinação do crédito de clientes bancários\n",
    "\n",
    "Nesta etapa, será realizado o treinamento de diferentes modelos, o tunning de hiperparâmetros e, por fim, será treinado um modelo de redes neurais para comparação com os modelos padrões. As métricas avaliadas serão o r², MSE e RMSE."
   ]
  },
  {
   "cell_type": "code",
   "execution_count": 33,
   "id": "519f0d8f",
   "metadata": {
    "ExecuteTime": {
     "end_time": "2021-11-24T17:52:45.519696Z",
     "start_time": "2021-11-24T17:52:45.513672Z"
    }
   },
   "outputs": [],
   "source": [
    "# Trabalho com o dataset, visualização e métricas de avaliação\n",
    "import pandas as pd\n",
    "from sklearn.metrics import r2_score, mean_squared_error, mean_absolute_error\n",
    "from sklearn.preprocessing import StandardScaler\n",
    "\n",
    "# Modelos de regressão\n",
    "from sklearn.model_selection import train_test_split\n",
    "from sklearn.linear_model import LinearRegression, SGDRegressor, HuberRegressor\n",
    "from sklearn.ensemble import RandomForestRegressor, ExtraTreesRegressor, AdaBoostRegressor, GradientBoostingRegressor\n",
    "from sklearn.svm import SVR\n",
    "from sklearn.neural_network import MLPRegressor\n",
    "\n",
    "# Hiperparametização\n",
    "from sklearn.model_selection import GridSearchCV"
   ]
  },
  {
   "cell_type": "code",
   "execution_count": 2,
   "id": "f3a61e56",
   "metadata": {
    "ExecuteTime": {
     "end_time": "2021-11-24T17:31:52.251502Z",
     "start_time": "2021-11-24T17:31:52.207504Z"
    }
   },
   "outputs": [],
   "source": [
    "df = pd.read_csv('df_regressao.csv')"
   ]
  },
  {
   "cell_type": "code",
   "execution_count": 3,
   "id": "6a45b706",
   "metadata": {
    "ExecuteTime": {
     "end_time": "2021-11-24T17:31:53.203569Z",
     "start_time": "2021-11-24T17:31:53.168559Z"
    }
   },
   "outputs": [
    {
     "data": {
      "text/html": [
       "<div>\n",
       "<style scoped>\n",
       "    .dataframe tbody tr th:only-of-type {\n",
       "        vertical-align: middle;\n",
       "    }\n",
       "\n",
       "    .dataframe tbody tr th {\n",
       "        vertical-align: top;\n",
       "    }\n",
       "\n",
       "    .dataframe thead th {\n",
       "        text-align: right;\n",
       "    }\n",
       "</style>\n",
       "<table border=\"1\" class=\"dataframe\">\n",
       "  <thead>\n",
       "    <tr style=\"text-align: right;\">\n",
       "      <th></th>\n",
       "      <th>BALANCE</th>\n",
       "      <th>BALANCE_FREQUENCY</th>\n",
       "      <th>PURCHASES</th>\n",
       "      <th>ONEOFF_PURCHASES</th>\n",
       "      <th>INSTALLMENTS_PURCHASES</th>\n",
       "      <th>CASH_ADVANCE</th>\n",
       "      <th>PURCHASES_FREQUENCY</th>\n",
       "      <th>ONEOFF_PURCHASES_FREQUENCY</th>\n",
       "      <th>PURCHASES_INSTALLMENTS_FREQUENCY</th>\n",
       "      <th>CASH_ADVANCE_FREQUENCY</th>\n",
       "      <th>...</th>\n",
       "      <th>PURCHASES_TRX</th>\n",
       "      <th>CREDIT_LIMIT</th>\n",
       "      <th>PAYMENTS</th>\n",
       "      <th>MINIMUM_PAYMENTS</th>\n",
       "      <th>PRC_FULL_PAYMENT</th>\n",
       "      <th>TENURE</th>\n",
       "      <th>cluster_gmm_0</th>\n",
       "      <th>cluster_gmm_1</th>\n",
       "      <th>cluster_gmm_2</th>\n",
       "      <th>cluster_gmm_3</th>\n",
       "    </tr>\n",
       "  </thead>\n",
       "  <tbody>\n",
       "    <tr>\n",
       "      <th>0</th>\n",
       "      <td>-0.819705</td>\n",
       "      <td>0.818182</td>\n",
       "      <td>-0.687480</td>\n",
       "      <td>-0.597929</td>\n",
       "      <td>-0.440112</td>\n",
       "      <td>-0.559575</td>\n",
       "      <td>0.166667</td>\n",
       "      <td>0.000000</td>\n",
       "      <td>0.083333</td>\n",
       "      <td>0.0</td>\n",
       "      <td>...</td>\n",
       "      <td>-0.607648</td>\n",
       "      <td>1000.0</td>\n",
       "      <td>-0.829268</td>\n",
       "      <td>-0.655746</td>\n",
       "      <td>0.0</td>\n",
       "      <td>12</td>\n",
       "      <td>0</td>\n",
       "      <td>1</td>\n",
       "      <td>0</td>\n",
       "      <td>0</td>\n",
       "    </tr>\n",
       "    <tr>\n",
       "      <th>1</th>\n",
       "      <td>1.185767</td>\n",
       "      <td>1.000000</td>\n",
       "      <td>0.260167</td>\n",
       "      <td>0.813451</td>\n",
       "      <td>-0.695456</td>\n",
       "      <td>-0.559575</td>\n",
       "      <td>1.000000</td>\n",
       "      <td>1.000000</td>\n",
       "      <td>0.000000</td>\n",
       "      <td>0.0</td>\n",
       "      <td>...</td>\n",
       "      <td>0.080223</td>\n",
       "      <td>7500.0</td>\n",
       "      <td>-0.400762</td>\n",
       "      <td>0.433366</td>\n",
       "      <td>0.0</td>\n",
       "      <td>12</td>\n",
       "      <td>0</td>\n",
       "      <td>1</td>\n",
       "      <td>0</td>\n",
       "      <td>0</td>\n",
       "    </tr>\n",
       "    <tr>\n",
       "      <th>2</th>\n",
       "      <td>-0.184937</td>\n",
       "      <td>1.000000</td>\n",
       "      <td>-0.798496</td>\n",
       "      <td>-0.568721</td>\n",
       "      <td>-0.695456</td>\n",
       "      <td>-0.559575</td>\n",
       "      <td>0.083333</td>\n",
       "      <td>0.083333</td>\n",
       "      <td>0.000000</td>\n",
       "      <td>0.0</td>\n",
       "      <td>...</td>\n",
       "      <td>-0.676435</td>\n",
       "      <td>1200.0</td>\n",
       "      <td>-0.343391</td>\n",
       "      <td>-0.420672</td>\n",
       "      <td>0.0</td>\n",
       "      <td>12</td>\n",
       "      <td>1</td>\n",
       "      <td>0</td>\n",
       "      <td>0</td>\n",
       "      <td>0</td>\n",
       "    </tr>\n",
       "    <tr>\n",
       "      <th>3</th>\n",
       "      <td>0.625762</td>\n",
       "      <td>1.000000</td>\n",
       "      <td>1.043304</td>\n",
       "      <td>-0.597929</td>\n",
       "      <td>2.873147</td>\n",
       "      <td>-0.559575</td>\n",
       "      <td>0.666667</td>\n",
       "      <td>0.000000</td>\n",
       "      <td>0.583333</td>\n",
       "      <td>0.0</td>\n",
       "      <td>...</td>\n",
       "      <td>-0.194926</td>\n",
       "      <td>1800.0</td>\n",
       "      <td>0.392485</td>\n",
       "      <td>4.407691</td>\n",
       "      <td>0.0</td>\n",
       "      <td>12</td>\n",
       "      <td>0</td>\n",
       "      <td>0</td>\n",
       "      <td>0</td>\n",
       "      <td>1</td>\n",
       "    </tr>\n",
       "    <tr>\n",
       "      <th>4</th>\n",
       "      <td>0.637058</td>\n",
       "      <td>1.000000</td>\n",
       "      <td>-0.210979</td>\n",
       "      <td>-0.597929</td>\n",
       "      <td>0.472059</td>\n",
       "      <td>-0.559575</td>\n",
       "      <td>1.000000</td>\n",
       "      <td>0.000000</td>\n",
       "      <td>1.000000</td>\n",
       "      <td>0.0</td>\n",
       "      <td>...</td>\n",
       "      <td>0.080223</td>\n",
       "      <td>2300.0</td>\n",
       "      <td>-0.342646</td>\n",
       "      <td>0.220688</td>\n",
       "      <td>0.0</td>\n",
       "      <td>12</td>\n",
       "      <td>0</td>\n",
       "      <td>1</td>\n",
       "      <td>0</td>\n",
       "      <td>0</td>\n",
       "    </tr>\n",
       "  </tbody>\n",
       "</table>\n",
       "<p>5 rows × 21 columns</p>\n",
       "</div>"
      ],
      "text/plain": [
       "    BALANCE  BALANCE_FREQUENCY  PURCHASES  ONEOFF_PURCHASES  \\\n",
       "0 -0.819705           0.818182  -0.687480         -0.597929   \n",
       "1  1.185767           1.000000   0.260167          0.813451   \n",
       "2 -0.184937           1.000000  -0.798496         -0.568721   \n",
       "3  0.625762           1.000000   1.043304         -0.597929   \n",
       "4  0.637058           1.000000  -0.210979         -0.597929   \n",
       "\n",
       "   INSTALLMENTS_PURCHASES  CASH_ADVANCE  PURCHASES_FREQUENCY  \\\n",
       "0               -0.440112     -0.559575             0.166667   \n",
       "1               -0.695456     -0.559575             1.000000   \n",
       "2               -0.695456     -0.559575             0.083333   \n",
       "3                2.873147     -0.559575             0.666667   \n",
       "4                0.472059     -0.559575             1.000000   \n",
       "\n",
       "   ONEOFF_PURCHASES_FREQUENCY  PURCHASES_INSTALLMENTS_FREQUENCY  \\\n",
       "0                    0.000000                          0.083333   \n",
       "1                    1.000000                          0.000000   \n",
       "2                    0.083333                          0.000000   \n",
       "3                    0.000000                          0.583333   \n",
       "4                    0.000000                          1.000000   \n",
       "\n",
       "   CASH_ADVANCE_FREQUENCY  ...  PURCHASES_TRX  CREDIT_LIMIT  PAYMENTS  \\\n",
       "0                     0.0  ...      -0.607648        1000.0 -0.829268   \n",
       "1                     0.0  ...       0.080223        7500.0 -0.400762   \n",
       "2                     0.0  ...      -0.676435        1200.0 -0.343391   \n",
       "3                     0.0  ...      -0.194926        1800.0  0.392485   \n",
       "4                     0.0  ...       0.080223        2300.0 -0.342646   \n",
       "\n",
       "   MINIMUM_PAYMENTS  PRC_FULL_PAYMENT  TENURE  cluster_gmm_0  cluster_gmm_1  \\\n",
       "0         -0.655746               0.0      12              0              1   \n",
       "1          0.433366               0.0      12              0              1   \n",
       "2         -0.420672               0.0      12              1              0   \n",
       "3          4.407691               0.0      12              0              0   \n",
       "4          0.220688               0.0      12              0              1   \n",
       "\n",
       "   cluster_gmm_2  cluster_gmm_3  \n",
       "0              0              0  \n",
       "1              0              0  \n",
       "2              0              0  \n",
       "3              0              1  \n",
       "4              0              0  \n",
       "\n",
       "[5 rows x 21 columns]"
      ]
     },
     "execution_count": 3,
     "metadata": {},
     "output_type": "execute_result"
    }
   ],
   "source": [
    "df.head()"
   ]
  },
  {
   "cell_type": "markdown",
   "id": "626ad9dc",
   "metadata": {},
   "source": [
    "# Separação dos dados e funções para métricas"
   ]
  },
  {
   "cell_type": "code",
   "execution_count": 4,
   "id": "0eac5b22",
   "metadata": {
    "ExecuteTime": {
     "end_time": "2021-11-24T17:31:56.621838Z",
     "start_time": "2021-11-24T17:31:56.614840Z"
    }
   },
   "outputs": [],
   "source": [
    "X = df.drop('CREDIT_LIMIT', axis=1)\n",
    "y = df['CREDIT_LIMIT']"
   ]
  },
  {
   "cell_type": "code",
   "execution_count": 5,
   "id": "ef4bd1e0",
   "metadata": {
    "ExecuteTime": {
     "end_time": "2021-11-24T17:31:57.610594Z",
     "start_time": "2021-11-24T17:31:57.592614Z"
    }
   },
   "outputs": [],
   "source": [
    "X_train, X_test, y_train, y_test = train_test_split(X, y, test_size=0.2, random_state=42)"
   ]
  },
  {
   "cell_type": "code",
   "execution_count": 6,
   "id": "e3101ba6",
   "metadata": {
    "ExecuteTime": {
     "end_time": "2021-11-24T17:31:58.914899Z",
     "start_time": "2021-11-24T17:31:58.901890Z"
    }
   },
   "outputs": [],
   "source": [
    "def avaliar_modelo(nome_modelo, y_teste, previsao):\n",
    "    r2 = r2_score(y_teste, previsao)\n",
    "    MSE = mean_absolute_error(y_teste, previsao)\n",
    "    RSME = mean_squared_error(y_teste, previsao)\n",
    "    return f'Modelo: {nome_modelo}\\nR2: {r2:.2f}\\nMSE: {MSE:.2f}\\nRSME: {RSME:.2f}\\n'"
   ]
  },
  {
   "cell_type": "markdown",
   "id": "18198888",
   "metadata": {},
   "source": [
    "# Treinamento de modelos"
   ]
  },
  {
   "cell_type": "code",
   "execution_count": 12,
   "id": "b7765a87",
   "metadata": {
    "ExecuteTime": {
     "end_time": "2021-11-24T12:25:43.744202Z",
     "start_time": "2021-11-24T12:25:35.846137Z"
    }
   },
   "outputs": [
    {
     "name": "stdout",
     "output_type": "stream",
     "text": [
      "Modelo: RandomForest\n",
      "R2: 0.31\n",
      "MSE: 1678.68\n",
      "RSME: 5707194.55\n",
      "\n",
      "Modelo: LinearRegression\n",
      "R2: 0.27\n",
      "MSE: 1790.77\n",
      "RSME: 6017553.86\n",
      "\n",
      "Modelo: ExtraTrees\n",
      "R2: 0.30\n",
      "MSE: 1675.22\n",
      "RSME: 5744797.93\n",
      "\n",
      "Modelo: SGDRegressor\n",
      "R2: 0.26\n",
      "MSE: 1721.91\n",
      "RSME: 6056324.19\n",
      "\n",
      "Modelo: GradientBoostingRegressor\n",
      "R2: 0.34\n",
      "MSE: 1663.36\n",
      "RSME: 5468472.04\n",
      "\n",
      "Modelo: HuberRegressor\n",
      "R2: 0.24\n",
      "MSE: 1681.21\n",
      "RSME: 6245921.24\n",
      "\n"
     ]
    },
    {
     "name": "stderr",
     "output_type": "stream",
     "text": [
      "C:\\ProgramData\\Anaconda3\\lib\\site-packages\\sklearn\\linear_model\\_huber.py:296: ConvergenceWarning: lbfgs failed to converge (status=1):\n",
      "STOP: TOTAL NO. of ITERATIONS REACHED LIMIT.\n",
      "\n",
      "Increase the number of iterations (max_iter) or scale the data as shown in:\n",
      "    https://scikit-learn.org/stable/modules/preprocessing.html\n",
      "  self.n_iter_ = _check_optimize_result(\"lbfgs\", opt_res, self.max_iter)\n"
     ]
    },
    {
     "name": "stdout",
     "output_type": "stream",
     "text": [
      "Modelo: AdaBoostRegressor\n",
      "R2: -0.18\n",
      "MSE: 2682.15\n",
      "RSME: 9735376.52\n",
      "\n",
      "Modelo: SVR\n",
      "R2: -0.04\n",
      "MSE: 2058.37\n",
      "RSME: 8595607.42\n",
      "\n"
     ]
    }
   ],
   "source": [
    "modelo_rf = RandomForestRegressor()\n",
    "modelo_lr = LinearRegression()\n",
    "modelo_et = ExtraTreesRegressor()\n",
    "modelo_sg = SGDRegressor()\n",
    "modelo_grad = GradientBoostingRegressor()\n",
    "modelo_hub = HuberRegressor()\n",
    "modelo_ada = AdaBoostRegressor()\n",
    "modelo_svr = SVR()\n",
    "\n",
    "modelos = {'RandomForest': modelo_rf,\n",
    "          'LinearRegression': modelo_lr,\n",
    "          'ExtraTrees': modelo_et,\n",
    "          'SGDRegressor': modelo_sg,\n",
    "          'GradientBoostingRegressor': modelo_grad,\n",
    "          'HuberRegressor': modelo_hub,\n",
    "          'AdaBoostRegressor': modelo_ada,\n",
    "          'SVR': modelo_svr}\n",
    "\n",
    "for nome_modelo, modelo in modelos.items():\n",
    "    # treinar\n",
    "    modelo.fit(X_train, y_train)\n",
    "    #testar\n",
    "    previsao = modelo.predict(X_test)\n",
    "    print(avaliar_modelo(nome_modelo, y_test, previsao))"
   ]
  },
  {
   "cell_type": "markdown",
   "id": "13ce1ac9",
   "metadata": {},
   "source": [
    "# Escolhendo o modelo para hiperparametização  \n",
    "\n",
    "Nenhum modelo performou muito bem, mas será realizada a hiperparametização de dois modelos, afim de verificar se os modelos performam de forma melhor.  \n",
    "Os modelos escolhidos foram o de Gradient Boosting e Random Forest"
   ]
  },
  {
   "cell_type": "markdown",
   "id": "b93212c7",
   "metadata": {},
   "source": [
    "## Gradient Boosting"
   ]
  },
  {
   "cell_type": "code",
   "execution_count": 18,
   "id": "a092cdc5",
   "metadata": {
    "ExecuteTime": {
     "end_time": "2021-11-24T13:13:56.884568Z",
     "start_time": "2021-11-24T12:55:57.482503Z"
    }
   },
   "outputs": [
    {
     "name": "stdout",
     "output_type": "stream",
     "text": [
      "Fitting 3 folds for each of 648 candidates, totalling 1944 fits\n"
     ]
    },
    {
     "data": {
      "text/plain": [
       "GridSearchCV(cv=3, estimator=GradientBoostingRegressor(), n_jobs=-1,\n",
       "             param_grid={'learning_rate': [0.1, 0.05, 0.02, 0.01, 0.005, 0.001],\n",
       "                         'max_depth': [1, 3, 5, 8, 10, 15],\n",
       "                         'min_samples_leaf': [5, 7, 10, 13, 15, 20],\n",
       "                         'n_estimators': [50, 100, 500]},\n",
       "             verbose=2)"
      ]
     },
     "execution_count": 18,
     "metadata": {},
     "output_type": "execute_result"
    }
   ],
   "source": [
    "param_grid={'n_estimators':[100, 500, 600, 800, 1000], \n",
    "            'learning_rate': [0.1, 0.05, 0.02, 0.01, 0.005, 0.001],\n",
    "            'max_depth':[1, 3, 5, 8, 10, 15], \n",
    "            'min_samples_leaf':[5, 7, 10, 13, 15, 20]}\n",
    "\n",
    "clf = GradientBoostingRegressor()\n",
    "\n",
    "grid_search = GridSearchCV(clf, param_grid=param_grid, cv=3, n_jobs=-1, verbose=2)\n",
    "\n",
    "grid_search.fit(X_train, y_train)"
   ]
  },
  {
   "cell_type": "code",
   "execution_count": 27,
   "id": "0b1e9f01",
   "metadata": {
    "ExecuteTime": {
     "end_time": "2021-11-24T13:15:35.369667Z",
     "start_time": "2021-11-24T13:15:35.359648Z"
    }
   },
   "outputs": [
    {
     "data": {
      "text/plain": [
       "{'learning_rate': 0.01,\n",
       " 'max_depth': 5,\n",
       " 'min_samples_leaf': 13,\n",
       " 'n_estimators': 500}"
      ]
     },
     "execution_count": 27,
     "metadata": {},
     "output_type": "execute_result"
    }
   ],
   "source": [
    "best_gbr = grid_search.best_params_\n",
    "best_gbr"
   ]
  },
  {
   "cell_type": "code",
   "execution_count": 28,
   "id": "4fabc9fa",
   "metadata": {
    "ExecuteTime": {
     "end_time": "2021-11-24T13:15:39.494431Z",
     "start_time": "2021-11-24T13:15:39.489413Z"
    }
   },
   "outputs": [],
   "source": [
    "clf_gbr = grid_search.best_estimator_"
   ]
  },
  {
   "cell_type": "code",
   "execution_count": 29,
   "id": "091b43a5",
   "metadata": {
    "ExecuteTime": {
     "end_time": "2021-11-24T13:15:42.893388Z",
     "start_time": "2021-11-24T13:15:42.870389Z"
    }
   },
   "outputs": [
    {
     "name": "stdout",
     "output_type": "stream",
     "text": [
      "Modelo: CLF Best Gradient Bossting\n",
      "R2: 0.34\n",
      "MSE: 1640.43\n",
      "RSME: 5413400.84\n",
      "\n"
     ]
    }
   ],
   "source": [
    "previsao = clf_gbr.predict(X_test)\n",
    "print(avaliar_modelo('CLF Best Gradient Bossting', y_test, previsao))"
   ]
  },
  {
   "cell_type": "markdown",
   "id": "19407c02",
   "metadata": {},
   "source": [
    "## Random Forest"
   ]
  },
  {
   "cell_type": "code",
   "execution_count": 7,
   "id": "77bbed4b",
   "metadata": {
    "ExecuteTime": {
     "end_time": "2021-11-24T17:36:05.661454Z",
     "start_time": "2021-11-24T17:32:06.340446Z"
    }
   },
   "outputs": [
    {
     "name": "stdout",
     "output_type": "stream",
     "text": [
      "Fitting 3 folds for each of 120 candidates, totalling 360 fits\n"
     ]
    },
    {
     "data": {
      "text/plain": [
       "GridSearchCV(cv=3, estimator=RandomForestRegressor(), n_jobs=-1,\n",
       "             param_grid={'bootstrap': [True, False],\n",
       "                         'max_depth': [None, 2, 4, 5, 10],\n",
       "                         'max_features': ['auto'],\n",
       "                         'min_samples_split': [2, 3, 5, 10],\n",
       "                         'n_estimators': [50, 250, 500]},\n",
       "             verbose=2)"
      ]
     },
     "execution_count": 7,
     "metadata": {},
     "output_type": "execute_result"
    }
   ],
   "source": [
    "params_grid = {\n",
    "    'n_estimators':[50, 250, 500],\n",
    "    'max_depth':[None, 2, 4, 5, 10],\n",
    "    'min_samples_split':[2, 3, 5, 10],\n",
    "    'max_features':['auto'],\n",
    "    'bootstrap':[True, False]\n",
    "}\n",
    "\n",
    "clf = RandomForestRegressor()\n",
    "\n",
    "grid_search_rf = GridSearchCV(clf, param_grid=params_grid, cv=3, n_jobs=-1, verbose=2)\n",
    "\n",
    "grid_search_rf.fit(X_train, y_train)"
   ]
  },
  {
   "cell_type": "code",
   "execution_count": 9,
   "id": "3d6df1cf",
   "metadata": {
    "ExecuteTime": {
     "end_time": "2021-11-24T17:36:37.693926Z",
     "start_time": "2021-11-24T17:36:37.675928Z"
    }
   },
   "outputs": [
    {
     "data": {
      "text/plain": [
       "{'bootstrap': True,\n",
       " 'max_depth': None,\n",
       " 'max_features': 'auto',\n",
       " 'min_samples_split': 10,\n",
       " 'n_estimators': 500}"
      ]
     },
     "execution_count": 9,
     "metadata": {},
     "output_type": "execute_result"
    }
   ],
   "source": [
    "best_rfr = grid_search_rf.best_params_\n",
    "best_rfr"
   ]
  },
  {
   "cell_type": "code",
   "execution_count": 11,
   "id": "3fc60119",
   "metadata": {
    "ExecuteTime": {
     "end_time": "2021-11-24T17:37:16.469757Z",
     "start_time": "2021-11-24T17:37:16.465759Z"
    }
   },
   "outputs": [],
   "source": [
    "clf_rfr = grid_search_rf.best_estimator_"
   ]
  },
  {
   "cell_type": "code",
   "execution_count": 12,
   "id": "e685d152",
   "metadata": {
    "ExecuteTime": {
     "end_time": "2021-11-24T17:37:18.221344Z",
     "start_time": "2021-11-24T17:37:18.100248Z"
    }
   },
   "outputs": [
    {
     "name": "stdout",
     "output_type": "stream",
     "text": [
      "Modelo: CLF Best Random Forest\n",
      "R2: 0.33\n",
      "MSE: 1649.41\n",
      "RSME: 5517897.45\n",
      "\n"
     ]
    }
   ],
   "source": [
    "previsao = clf_rfr.predict(X_test)\n",
    "print(avaliar_modelo('CLF Best Random Forest', y_test, previsao))"
   ]
  },
  {
   "cell_type": "markdown",
   "id": "882d16a2",
   "metadata": {},
   "source": [
    "## Redes Neurais"
   ]
  },
  {
   "cell_type": "markdown",
   "id": "9548dfc1",
   "metadata": {},
   "source": [
    "### 1 camada, 3 neurônios"
   ]
  },
  {
   "cell_type": "code",
   "execution_count": 27,
   "id": "da52ebd4",
   "metadata": {
    "ExecuteTime": {
     "end_time": "2021-11-24T17:51:13.808869Z",
     "start_time": "2021-11-24T17:50:38.318870Z"
    }
   },
   "outputs": [
    {
     "name": "stdout",
     "output_type": "stream",
     "text": [
      "Modelo: Rede neural MLP\n",
      "R2: 0.27\n",
      "MSE: 1795.53\n",
      "RSME: 6023149.65\n",
      "\n"
     ]
    }
   ],
   "source": [
    "n_layers = 1\n",
    "n_elements_layer = 3 \n",
    "layer_size = (n_elements_layer, )\n",
    "for i in range(0,n_layers-1):\n",
    "    layer_size += (n_elements_layer, )\n",
    "\n",
    "model = MLPRegressor(random_state = 42, max_iter = 100000, \n",
    "                     hidden_layer_sizes = layer_size, \n",
    "                     learning_rate = 'adaptive', activation = 'relu')\n",
    "reg = model.fit(X_train, y_train)\n",
    "\n",
    "previsao = reg.predict(X_test)\n",
    "\n",
    "print(avaliar_modelo('Rede neural MLP', y_test, previsao))"
   ]
  },
  {
   "cell_type": "markdown",
   "id": "23374bc6",
   "metadata": {},
   "source": [
    "### 3 camadas, 3 neurônios"
   ]
  },
  {
   "cell_type": "code",
   "execution_count": 28,
   "id": "a80629f5",
   "metadata": {
    "ExecuteTime": {
     "end_time": "2021-11-24T17:51:29.192882Z",
     "start_time": "2021-11-24T17:51:13.813871Z"
    }
   },
   "outputs": [
    {
     "name": "stdout",
     "output_type": "stream",
     "text": [
      "Modelo: Rede neural MLP\n",
      "R2: 0.29\n",
      "MSE: 1721.51\n",
      "RSME: 5810831.81\n",
      "\n"
     ]
    }
   ],
   "source": [
    "n_layers = 3\n",
    "n_elements_layer = 3\n",
    "layer_size = (n_elements_layer, )\n",
    "for i in range(0,n_layers-1):\n",
    "    layer_size += (n_elements_layer, )\n",
    "\n",
    "model = MLPRegressor(random_state = 42, max_iter = 100000, \n",
    "                     hidden_layer_sizes = layer_size, \n",
    "                     learning_rate = 'adaptive', activation = 'relu')\n",
    "reg = model.fit(X_train, y_train)\n",
    "\n",
    "previsao = reg.predict(X_test)\n",
    "\n",
    "print(avaliar_modelo('Rede neural MLP', y_test, previsao))"
   ]
  },
  {
   "cell_type": "markdown",
   "id": "f57910f6",
   "metadata": {},
   "source": [
    "### 3 camadas, 20 neurônios"
   ]
  },
  {
   "cell_type": "code",
   "execution_count": 29,
   "id": "7c768bcf",
   "metadata": {
    "ExecuteTime": {
     "end_time": "2021-11-24T17:51:40.857869Z",
     "start_time": "2021-11-24T17:51:29.193872Z"
    }
   },
   "outputs": [
    {
     "name": "stdout",
     "output_type": "stream",
     "text": [
      "Modelo: Rede neural MLP\n",
      "R2: 0.34\n",
      "MSE: 1631.11\n",
      "RSME: 5439906.54\n",
      "\n"
     ]
    }
   ],
   "source": [
    "n_layers = 3\n",
    "n_elements_layer = 20 \n",
    "layer_size = (n_elements_layer, )\n",
    "for i in range(0,n_layers-1):\n",
    "    layer_size += (n_elements_layer, )\n",
    "\n",
    "model = MLPRegressor(random_state = 42, max_iter = 100000, \n",
    "                     hidden_layer_sizes = layer_size, \n",
    "                     learning_rate = 'adaptive', activation = 'relu')\n",
    "reg = model.fit(X_train, y_train)\n",
    "\n",
    "previsao = reg.predict(X_test)\n",
    "\n",
    "print(avaliar_modelo('Rede neural MLP', y_test, previsao))"
   ]
  },
  {
   "cell_type": "markdown",
   "id": "808a2f2e",
   "metadata": {},
   "source": [
    "### 3 camadas, 50 neurônios"
   ]
  },
  {
   "cell_type": "code",
   "execution_count": 26,
   "id": "75fc029c",
   "metadata": {
    "ExecuteTime": {
     "end_time": "2021-11-24T17:49:38.130387Z",
     "start_time": "2021-11-24T17:49:22.284389Z"
    }
   },
   "outputs": [
    {
     "name": "stdout",
     "output_type": "stream",
     "text": [
      "Modelo: Rede neural MLP\n",
      "R2: 0.34\n",
      "MSE: 1610.08\n",
      "RSME: 5416870.63\n",
      "\n"
     ]
    }
   ],
   "source": [
    "n_layers = 3\n",
    "n_elements_layer = 50\n",
    "layer_size = (n_elements_layer, )\n",
    "for i in range(0,n_layers-1):\n",
    "    layer_size += (n_elements_layer, )\n",
    "\n",
    "model = MLPRegressor(random_state = 42, max_iter = 100000, \n",
    "                     hidden_layer_sizes = layer_size, \n",
    "                     learning_rate = 'adaptive', activation = 'relu')\n",
    "reg = model.fit(X_train, y_train)\n",
    "\n",
    "previsao = reg.predict(X_test)\n",
    "\n",
    "print(avaliar_modelo('Rede neural MLP', y_test, previsao))"
   ]
  },
  {
   "cell_type": "markdown",
   "id": "6d7ee74d",
   "metadata": {},
   "source": [
    "### 5 camadas, 20 neurônios"
   ]
  },
  {
   "cell_type": "code",
   "execution_count": 30,
   "id": "7213ab90",
   "metadata": {
    "ExecuteTime": {
     "end_time": "2021-11-24T17:51:49.573871Z",
     "start_time": "2021-11-24T17:51:40.858870Z"
    }
   },
   "outputs": [
    {
     "name": "stdout",
     "output_type": "stream",
     "text": [
      "Modelo: Rede neural MLP\n",
      "R2: 0.34\n",
      "MSE: 1649.65\n",
      "RSME: 5420358.53\n",
      "\n"
     ]
    }
   ],
   "source": [
    "n_layers = 5\n",
    "n_elements_layer = 20 \n",
    "layer_size = (n_elements_layer, )\n",
    "for i in range(0,n_layers-1):\n",
    "    layer_size += (n_elements_layer, )\n",
    "\n",
    "model = MLPRegressor(random_state = 42, max_iter = 100000, \n",
    "                     hidden_layer_sizes = layer_size, \n",
    "                     learning_rate = 'adaptive', activation = 'relu')\n",
    "reg = model.fit(X_train, y_train)\n",
    "\n",
    "previsao = reg.predict(X_test)\n",
    "\n",
    "print(avaliar_modelo('Rede neural MLP', y_test, previsao))"
   ]
  },
  {
   "cell_type": "markdown",
   "id": "bdaad8aa",
   "metadata": {},
   "source": [
    "### 5 camadas, 50 neurônios"
   ]
  },
  {
   "cell_type": "code",
   "execution_count": 31,
   "id": "35f140a5",
   "metadata": {
    "ExecuteTime": {
     "end_time": "2021-11-24T17:52:04.145925Z",
     "start_time": "2021-11-24T17:51:49.574870Z"
    }
   },
   "outputs": [
    {
     "name": "stdout",
     "output_type": "stream",
     "text": [
      "Modelo: Rede neural MLP\n",
      "R2: 0.34\n",
      "MSE: 1655.15\n",
      "RSME: 5395376.86\n",
      "\n"
     ]
    }
   ],
   "source": [
    "n_layers = 5\n",
    "n_elements_layer = 50\n",
    "layer_size = (n_elements_layer, )\n",
    "for i in range(0,n_layers-1):\n",
    "    layer_size += (n_elements_layer, )\n",
    "\n",
    "model = MLPRegressor(random_state = 42, max_iter = 100000, \n",
    "                     hidden_layer_sizes = layer_size, \n",
    "                     learning_rate = 'adaptive', activation = 'relu')\n",
    "reg = model.fit(X_train, y_train)\n",
    "\n",
    "previsao = reg.predict(X_test)\n",
    "\n",
    "print(avaliar_modelo('Rede neural MLP', y_test, previsao))"
   ]
  },
  {
   "cell_type": "markdown",
   "id": "f311acad",
   "metadata": {},
   "source": [
    "### 7 camadas, 20 neurônios"
   ]
  },
  {
   "cell_type": "code",
   "execution_count": 24,
   "id": "bb9ec486",
   "metadata": {
    "ExecuteTime": {
     "end_time": "2021-11-24T17:48:36.698494Z",
     "start_time": "2021-11-24T17:48:29.882489Z"
    }
   },
   "outputs": [
    {
     "name": "stdout",
     "output_type": "stream",
     "text": [
      "Modelo: Rede neural MLP\n",
      "R2: 0.35\n",
      "MSE: 1580.04\n",
      "RSME: 5375366.88\n",
      "\n"
     ]
    }
   ],
   "source": [
    "n_layers = 7\n",
    "n_elements_layer = 20\n",
    "layer_size = (n_elements_layer, )\n",
    "for i in range(0,n_layers-1):\n",
    "    layer_size += (n_elements_layer, )\n",
    "\n",
    "model = MLPRegressor(random_state = 42, max_iter = 100000, \n",
    "                     hidden_layer_sizes = layer_size, \n",
    "                     learning_rate = 'adaptive', activation = 'relu')\n",
    "reg = model.fit(X_train, y_train)\n",
    "\n",
    "previsao = reg.predict(X_test)\n",
    "\n",
    "print(avaliar_modelo('Rede neural MLP', y_test, previsao))"
   ]
  },
  {
   "cell_type": "markdown",
   "id": "e4f58a4e",
   "metadata": {},
   "source": [
    "### 7 camadas, 50 neurônios"
   ]
  },
  {
   "cell_type": "code",
   "execution_count": 25,
   "id": "0be49591",
   "metadata": {
    "ExecuteTime": {
     "end_time": "2021-11-24T17:48:49.112493Z",
     "start_time": "2021-11-24T17:48:36.699492Z"
    }
   },
   "outputs": [
    {
     "name": "stdout",
     "output_type": "stream",
     "text": [
      "Modelo: Rede neural MLP\n",
      "R2: 0.35\n",
      "MSE: 1616.12\n",
      "RSME: 5361501.67\n",
      "\n"
     ]
    }
   ],
   "source": [
    "n_layers = 7\n",
    "n_elements_layer = 50\n",
    "layer_size = (n_elements_layer, )\n",
    "for i in range(0,n_layers-1):\n",
    "    layer_size += (n_elements_layer, )\n",
    "\n",
    "model = MLPRegressor(random_state = 42, max_iter = 100000, \n",
    "                     hidden_layer_sizes = layer_size, \n",
    "                     learning_rate = 'adaptive', activation = 'relu')\n",
    "reg = model.fit(X_train, y_train)\n",
    "\n",
    "previsao = reg.predict(X_test)\n",
    "\n",
    "print(avaliar_modelo('Rede neural MLP', y_test, previsao))"
   ]
  },
  {
   "cell_type": "markdown",
   "id": "ce29efa9",
   "metadata": {},
   "source": [
    "# Conclusões parciais\n",
    "\n",
    "Nenhum modelo performou bem, mesmo com o tuning de hiperparâmetros ou com redes neurais.  \n",
    "\n",
    "Uma alternativa a ser realizada é escalonar o target (CREDIT_LIMIT), repetindo os procedimentos."
   ]
  },
  {
   "cell_type": "code",
   "execution_count": 34,
   "id": "dc3d026a",
   "metadata": {
    "ExecuteTime": {
     "end_time": "2021-11-24T17:53:09.719322Z",
     "start_time": "2021-11-24T17:53:09.697323Z"
    }
   },
   "outputs": [
    {
     "data": {
      "text/html": [
       "<div>\n",
       "<style scoped>\n",
       "    .dataframe tbody tr th:only-of-type {\n",
       "        vertical-align: middle;\n",
       "    }\n",
       "\n",
       "    .dataframe tbody tr th {\n",
       "        vertical-align: top;\n",
       "    }\n",
       "\n",
       "    .dataframe thead th {\n",
       "        text-align: right;\n",
       "    }\n",
       "</style>\n",
       "<table border=\"1\" class=\"dataframe\">\n",
       "  <thead>\n",
       "    <tr style=\"text-align: right;\">\n",
       "      <th></th>\n",
       "      <th>BALANCE</th>\n",
       "      <th>BALANCE_FREQUENCY</th>\n",
       "      <th>PURCHASES</th>\n",
       "      <th>ONEOFF_PURCHASES</th>\n",
       "      <th>INSTALLMENTS_PURCHASES</th>\n",
       "      <th>CASH_ADVANCE</th>\n",
       "      <th>PURCHASES_FREQUENCY</th>\n",
       "      <th>ONEOFF_PURCHASES_FREQUENCY</th>\n",
       "      <th>PURCHASES_INSTALLMENTS_FREQUENCY</th>\n",
       "      <th>CASH_ADVANCE_FREQUENCY</th>\n",
       "      <th>...</th>\n",
       "      <th>PURCHASES_TRX</th>\n",
       "      <th>CREDIT_LIMIT</th>\n",
       "      <th>PAYMENTS</th>\n",
       "      <th>MINIMUM_PAYMENTS</th>\n",
       "      <th>PRC_FULL_PAYMENT</th>\n",
       "      <th>TENURE</th>\n",
       "      <th>cluster_gmm_0</th>\n",
       "      <th>cluster_gmm_1</th>\n",
       "      <th>cluster_gmm_2</th>\n",
       "      <th>cluster_gmm_3</th>\n",
       "    </tr>\n",
       "  </thead>\n",
       "  <tbody>\n",
       "    <tr>\n",
       "      <th>0</th>\n",
       "      <td>-0.819705</td>\n",
       "      <td>0.818182</td>\n",
       "      <td>-0.687480</td>\n",
       "      <td>-0.597929</td>\n",
       "      <td>-0.440112</td>\n",
       "      <td>-0.559575</td>\n",
       "      <td>0.166667</td>\n",
       "      <td>0.000000</td>\n",
       "      <td>0.083333</td>\n",
       "      <td>0.0</td>\n",
       "      <td>...</td>\n",
       "      <td>-0.607648</td>\n",
       "      <td>1000.0</td>\n",
       "      <td>-0.829268</td>\n",
       "      <td>-0.655746</td>\n",
       "      <td>0.0</td>\n",
       "      <td>12</td>\n",
       "      <td>0</td>\n",
       "      <td>1</td>\n",
       "      <td>0</td>\n",
       "      <td>0</td>\n",
       "    </tr>\n",
       "    <tr>\n",
       "      <th>1</th>\n",
       "      <td>1.185767</td>\n",
       "      <td>1.000000</td>\n",
       "      <td>0.260167</td>\n",
       "      <td>0.813451</td>\n",
       "      <td>-0.695456</td>\n",
       "      <td>-0.559575</td>\n",
       "      <td>1.000000</td>\n",
       "      <td>1.000000</td>\n",
       "      <td>0.000000</td>\n",
       "      <td>0.0</td>\n",
       "      <td>...</td>\n",
       "      <td>0.080223</td>\n",
       "      <td>7500.0</td>\n",
       "      <td>-0.400762</td>\n",
       "      <td>0.433366</td>\n",
       "      <td>0.0</td>\n",
       "      <td>12</td>\n",
       "      <td>0</td>\n",
       "      <td>1</td>\n",
       "      <td>0</td>\n",
       "      <td>0</td>\n",
       "    </tr>\n",
       "    <tr>\n",
       "      <th>2</th>\n",
       "      <td>-0.184937</td>\n",
       "      <td>1.000000</td>\n",
       "      <td>-0.798496</td>\n",
       "      <td>-0.568721</td>\n",
       "      <td>-0.695456</td>\n",
       "      <td>-0.559575</td>\n",
       "      <td>0.083333</td>\n",
       "      <td>0.083333</td>\n",
       "      <td>0.000000</td>\n",
       "      <td>0.0</td>\n",
       "      <td>...</td>\n",
       "      <td>-0.676435</td>\n",
       "      <td>1200.0</td>\n",
       "      <td>-0.343391</td>\n",
       "      <td>-0.420672</td>\n",
       "      <td>0.0</td>\n",
       "      <td>12</td>\n",
       "      <td>1</td>\n",
       "      <td>0</td>\n",
       "      <td>0</td>\n",
       "      <td>0</td>\n",
       "    </tr>\n",
       "    <tr>\n",
       "      <th>3</th>\n",
       "      <td>0.625762</td>\n",
       "      <td>1.000000</td>\n",
       "      <td>1.043304</td>\n",
       "      <td>-0.597929</td>\n",
       "      <td>2.873147</td>\n",
       "      <td>-0.559575</td>\n",
       "      <td>0.666667</td>\n",
       "      <td>0.000000</td>\n",
       "      <td>0.583333</td>\n",
       "      <td>0.0</td>\n",
       "      <td>...</td>\n",
       "      <td>-0.194926</td>\n",
       "      <td>1800.0</td>\n",
       "      <td>0.392485</td>\n",
       "      <td>4.407691</td>\n",
       "      <td>0.0</td>\n",
       "      <td>12</td>\n",
       "      <td>0</td>\n",
       "      <td>0</td>\n",
       "      <td>0</td>\n",
       "      <td>1</td>\n",
       "    </tr>\n",
       "    <tr>\n",
       "      <th>4</th>\n",
       "      <td>0.637058</td>\n",
       "      <td>1.000000</td>\n",
       "      <td>-0.210979</td>\n",
       "      <td>-0.597929</td>\n",
       "      <td>0.472059</td>\n",
       "      <td>-0.559575</td>\n",
       "      <td>1.000000</td>\n",
       "      <td>0.000000</td>\n",
       "      <td>1.000000</td>\n",
       "      <td>0.0</td>\n",
       "      <td>...</td>\n",
       "      <td>0.080223</td>\n",
       "      <td>2300.0</td>\n",
       "      <td>-0.342646</td>\n",
       "      <td>0.220688</td>\n",
       "      <td>0.0</td>\n",
       "      <td>12</td>\n",
       "      <td>0</td>\n",
       "      <td>1</td>\n",
       "      <td>0</td>\n",
       "      <td>0</td>\n",
       "    </tr>\n",
       "  </tbody>\n",
       "</table>\n",
       "<p>5 rows × 21 columns</p>\n",
       "</div>"
      ],
      "text/plain": [
       "    BALANCE  BALANCE_FREQUENCY  PURCHASES  ONEOFF_PURCHASES  \\\n",
       "0 -0.819705           0.818182  -0.687480         -0.597929   \n",
       "1  1.185767           1.000000   0.260167          0.813451   \n",
       "2 -0.184937           1.000000  -0.798496         -0.568721   \n",
       "3  0.625762           1.000000   1.043304         -0.597929   \n",
       "4  0.637058           1.000000  -0.210979         -0.597929   \n",
       "\n",
       "   INSTALLMENTS_PURCHASES  CASH_ADVANCE  PURCHASES_FREQUENCY  \\\n",
       "0               -0.440112     -0.559575             0.166667   \n",
       "1               -0.695456     -0.559575             1.000000   \n",
       "2               -0.695456     -0.559575             0.083333   \n",
       "3                2.873147     -0.559575             0.666667   \n",
       "4                0.472059     -0.559575             1.000000   \n",
       "\n",
       "   ONEOFF_PURCHASES_FREQUENCY  PURCHASES_INSTALLMENTS_FREQUENCY  \\\n",
       "0                    0.000000                          0.083333   \n",
       "1                    1.000000                          0.000000   \n",
       "2                    0.083333                          0.000000   \n",
       "3                    0.000000                          0.583333   \n",
       "4                    0.000000                          1.000000   \n",
       "\n",
       "   CASH_ADVANCE_FREQUENCY  ...  PURCHASES_TRX  CREDIT_LIMIT  PAYMENTS  \\\n",
       "0                     0.0  ...      -0.607648        1000.0 -0.829268   \n",
       "1                     0.0  ...       0.080223        7500.0 -0.400762   \n",
       "2                     0.0  ...      -0.676435        1200.0 -0.343391   \n",
       "3                     0.0  ...      -0.194926        1800.0  0.392485   \n",
       "4                     0.0  ...       0.080223        2300.0 -0.342646   \n",
       "\n",
       "   MINIMUM_PAYMENTS  PRC_FULL_PAYMENT  TENURE  cluster_gmm_0  cluster_gmm_1  \\\n",
       "0         -0.655746               0.0      12              0              1   \n",
       "1          0.433366               0.0      12              0              1   \n",
       "2         -0.420672               0.0      12              1              0   \n",
       "3          4.407691               0.0      12              0              0   \n",
       "4          0.220688               0.0      12              0              1   \n",
       "\n",
       "   cluster_gmm_2  cluster_gmm_3  \n",
       "0              0              0  \n",
       "1              0              0  \n",
       "2              0              0  \n",
       "3              0              1  \n",
       "4              0              0  \n",
       "\n",
       "[5 rows x 21 columns]"
      ]
     },
     "execution_count": 34,
     "metadata": {},
     "output_type": "execute_result"
    }
   ],
   "source": [
    "df.head()"
   ]
  },
  {
   "cell_type": "code",
   "execution_count": 36,
   "id": "2e08c33f",
   "metadata": {
    "ExecuteTime": {
     "end_time": "2021-11-24T17:55:29.125939Z",
     "start_time": "2021-11-24T17:55:29.110964Z"
    }
   },
   "outputs": [],
   "source": [
    "df_norm = df.copy(deep=True)"
   ]
  },
  {
   "cell_type": "code",
   "execution_count": 37,
   "id": "d149ffc4",
   "metadata": {
    "ExecuteTime": {
     "end_time": "2021-11-24T17:55:30.648972Z",
     "start_time": "2021-11-24T17:55:30.621972Z"
    }
   },
   "outputs": [],
   "source": [
    "scaler = StandardScaler()\n",
    "variaveis_scalling = ['CREDIT_LIMIT']\n",
    "df_norm[variaveis_scalling] = scaler.fit_transform(df_norm[variaveis_scalling])"
   ]
  },
  {
   "cell_type": "code",
   "execution_count": 39,
   "id": "f1ad0ea6",
   "metadata": {
    "ExecuteTime": {
     "end_time": "2021-11-24T17:55:41.856696Z",
     "start_time": "2021-11-24T17:55:41.849666Z"
    }
   },
   "outputs": [
    {
     "data": {
      "text/plain": [
       "0   -0.916830\n",
       "1    1.283455\n",
       "2   -0.849129\n",
       "3   -0.646025\n",
       "4   -0.476773\n",
       "Name: CREDIT_LIMIT, dtype: float64"
      ]
     },
     "execution_count": 39,
     "metadata": {},
     "output_type": "execute_result"
    }
   ],
   "source": [
    "df_norm['CREDIT_LIMIT'].head()"
   ]
  },
  {
   "cell_type": "code",
   "execution_count": 40,
   "id": "0f2beedd",
   "metadata": {
    "ExecuteTime": {
     "end_time": "2021-11-24T17:56:39.314562Z",
     "start_time": "2021-11-24T17:56:39.306563Z"
    }
   },
   "outputs": [],
   "source": [
    "X = df_norm.drop('CREDIT_LIMIT', axis=1)\n",
    "y = df_norm['CREDIT_LIMIT']"
   ]
  },
  {
   "cell_type": "code",
   "execution_count": 41,
   "id": "2d742f3a",
   "metadata": {
    "ExecuteTime": {
     "end_time": "2021-11-24T17:56:40.528582Z",
     "start_time": "2021-11-24T17:56:40.508556Z"
    }
   },
   "outputs": [],
   "source": [
    "X_train, X_test, y_train, y_test = train_test_split(X, y, test_size=0.2, random_state=42)"
   ]
  },
  {
   "cell_type": "markdown",
   "id": "76178799",
   "metadata": {},
   "source": [
    "# Treinamento de modelos com o target normalizado"
   ]
  },
  {
   "cell_type": "code",
   "execution_count": 42,
   "id": "cc646ae8",
   "metadata": {
    "ExecuteTime": {
     "end_time": "2021-11-24T17:57:27.030528Z",
     "start_time": "2021-11-24T17:57:19.369529Z"
    }
   },
   "outputs": [
    {
     "name": "stdout",
     "output_type": "stream",
     "text": [
      "Modelo: RandomForest\n",
      "R2: 0.31\n",
      "MSE: 0.56\n",
      "RSME: 0.65\n",
      "\n",
      "Modelo: LinearRegression\n",
      "R2: 0.27\n",
      "MSE: 0.61\n",
      "RSME: 0.69\n",
      "\n",
      "Modelo: ExtraTrees\n",
      "R2: 0.30\n",
      "MSE: 0.57\n",
      "RSME: 0.66\n",
      "\n",
      "Modelo: SGDRegressor\n",
      "R2: 0.27\n",
      "MSE: 0.61\n",
      "RSME: 0.69\n",
      "\n",
      "Modelo: GradientBoostingRegressor\n",
      "R2: 0.34\n",
      "MSE: 0.56\n",
      "RSME: 0.63\n",
      "\n",
      "Modelo: HuberRegressor\n",
      "R2: 0.24\n",
      "MSE: 0.57\n",
      "RSME: 0.71\n",
      "\n"
     ]
    },
    {
     "name": "stderr",
     "output_type": "stream",
     "text": [
      "C:\\ProgramData\\Anaconda3\\lib\\site-packages\\sklearn\\linear_model\\_huber.py:296: ConvergenceWarning: lbfgs failed to converge (status=1):\n",
      "STOP: TOTAL NO. of ITERATIONS REACHED LIMIT.\n",
      "\n",
      "Increase the number of iterations (max_iter) or scale the data as shown in:\n",
      "    https://scikit-learn.org/stable/modules/preprocessing.html\n",
      "  self.n_iter_ = _check_optimize_result(\"lbfgs\", opt_res, self.max_iter)\n"
     ]
    },
    {
     "name": "stdout",
     "output_type": "stream",
     "text": [
      "Modelo: AdaBoostRegressor\n",
      "R2: -0.23\n",
      "MSE: 0.93\n",
      "RSME: 1.16\n",
      "\n",
      "Modelo: SVR\n",
      "R2: 0.25\n",
      "MSE: 0.54\n",
      "RSME: 0.71\n",
      "\n"
     ]
    }
   ],
   "source": [
    "modelo_rf = RandomForestRegressor()\n",
    "modelo_lr = LinearRegression()\n",
    "modelo_et = ExtraTreesRegressor()\n",
    "modelo_sg = SGDRegressor()\n",
    "modelo_grad = GradientBoostingRegressor()\n",
    "modelo_hub = HuberRegressor()\n",
    "modelo_ada = AdaBoostRegressor()\n",
    "modelo_svr = SVR()\n",
    "\n",
    "modelos = {'RandomForest': modelo_rf,\n",
    "          'LinearRegression': modelo_lr,\n",
    "          'ExtraTrees': modelo_et,\n",
    "          'SGDRegressor': modelo_sg,\n",
    "          'GradientBoostingRegressor': modelo_grad,\n",
    "          'HuberRegressor': modelo_hub,\n",
    "          'AdaBoostRegressor': modelo_ada,\n",
    "          'SVR': modelo_svr}\n",
    "\n",
    "for nome_modelo, modelo in modelos.items():\n",
    "    # treinar\n",
    "    modelo.fit(X_train, y_train)\n",
    "    #testar\n",
    "    previsao = modelo.predict(X_test)\n",
    "    print(avaliar_modelo(nome_modelo, y_test, previsao))"
   ]
  },
  {
   "cell_type": "markdown",
   "id": "746e7c45",
   "metadata": {},
   "source": [
    "## Tuning do modelo de Gradient Boosting"
   ]
  },
  {
   "cell_type": "code",
   "execution_count": 44,
   "id": "16d49774",
   "metadata": {
    "ExecuteTime": {
     "end_time": "2021-11-24T19:02:17.154122Z",
     "start_time": "2021-11-24T18:45:54.864987Z"
    }
   },
   "outputs": [
    {
     "name": "stdout",
     "output_type": "stream",
     "text": [
      "Fitting 3 folds for each of 192 candidates, totalling 576 fits\n"
     ]
    },
    {
     "data": {
      "text/plain": [
       "GridSearchCV(cv=3, estimator=GradientBoostingRegressor(), n_jobs=-1,\n",
       "             param_grid={'learning_rate': [0.1, 0.05, 0.01],\n",
       "                         'max_depth': [3, 5, 10, 15],\n",
       "                         'min_samples_leaf': [7, 10, 13, 15],\n",
       "                         'n_estimators': [100, 500, 800, 1000]},\n",
       "             verbose=2)"
      ]
     },
     "execution_count": 44,
     "metadata": {},
     "output_type": "execute_result"
    }
   ],
   "source": [
    "param_grid={'n_estimators':[100, 500, 800, 1000], \n",
    "            'learning_rate': [0.1, 0.05, 0.01],\n",
    "            'max_depth':[3, 5, 10, 15], \n",
    "            'min_samples_leaf':[7, 10, 13, 15]}\n",
    "\n",
    "clf = GradientBoostingRegressor()\n",
    "\n",
    "grid_search = GridSearchCV(clf, param_grid=param_grid, cv=3, n_jobs=-1, verbose=2)\n",
    "\n",
    "grid_search.fit(X_train, y_train)"
   ]
  },
  {
   "cell_type": "code",
   "execution_count": 45,
   "id": "ac24b8ed",
   "metadata": {
    "ExecuteTime": {
     "end_time": "2021-11-24T19:02:17.170123Z",
     "start_time": "2021-11-24T19:02:17.155124Z"
    }
   },
   "outputs": [
    {
     "data": {
      "text/plain": [
       "{'learning_rate': 0.01,\n",
       " 'max_depth': 5,\n",
       " 'min_samples_leaf': 13,\n",
       " 'n_estimators': 800}"
      ]
     },
     "execution_count": 45,
     "metadata": {},
     "output_type": "execute_result"
    }
   ],
   "source": [
    "best_gbr = grid_search.best_params_\n",
    "best_gbr"
   ]
  },
  {
   "cell_type": "code",
   "execution_count": 46,
   "id": "8254f220",
   "metadata": {
    "ExecuteTime": {
     "end_time": "2021-11-24T19:02:17.186123Z",
     "start_time": "2021-11-24T19:02:17.171126Z"
    }
   },
   "outputs": [],
   "source": [
    "clf_gbr = grid_search.best_estimator_"
   ]
  },
  {
   "cell_type": "code",
   "execution_count": 47,
   "id": "bb357f48",
   "metadata": {
    "ExecuteTime": {
     "end_time": "2021-11-24T19:02:17.217122Z",
     "start_time": "2021-11-24T19:02:17.187124Z"
    }
   },
   "outputs": [
    {
     "name": "stdout",
     "output_type": "stream",
     "text": [
      "Modelo: CLF Best Gradient Bossting\n",
      "R2: 0.34\n",
      "MSE: 0.55\n",
      "RSME: 0.62\n",
      "\n"
     ]
    }
   ],
   "source": [
    "previsao = clf_gbr.predict(X_test)\n",
    "print(avaliar_modelo('CLF Best Gradient Bossting', y_test, previsao))"
   ]
  },
  {
   "cell_type": "markdown",
   "id": "099e0086",
   "metadata": {},
   "source": [
    "## Redes Neurais\n",
    "\n",
    "Foram escolhidos os parâmetros que performaram melhor para os dados não escalonados. Que são: 3 camadas e 50 neurônios, 5 camadas e 20 neurônios, 7 camadas e 20 neurônios"
   ]
  },
  {
   "cell_type": "markdown",
   "id": "bf9fcc69",
   "metadata": {},
   "source": [
    "### 3 camadas e 50 neurônios"
   ]
  },
  {
   "cell_type": "code",
   "execution_count": 48,
   "id": "10f2135b",
   "metadata": {
    "ExecuteTime": {
     "end_time": "2021-11-24T19:02:25.064122Z",
     "start_time": "2021-11-24T19:02:17.218124Z"
    }
   },
   "outputs": [
    {
     "name": "stdout",
     "output_type": "stream",
     "text": [
      "Modelo: Rede neural MLP\n",
      "R2: 0.22\n",
      "MSE: 0.61\n",
      "RSME: 0.73\n",
      "\n"
     ]
    }
   ],
   "source": [
    "n_layers = 3\n",
    "n_elements_layer = 50\n",
    "layer_size = (n_elements_layer, )\n",
    "for i in range(0,n_layers-1):\n",
    "    layer_size += (n_elements_layer, )\n",
    "\n",
    "model = MLPRegressor(random_state = 42, max_iter = 100000, \n",
    "                     hidden_layer_sizes = layer_size, \n",
    "                     learning_rate = 'adaptive', activation = 'relu')\n",
    "reg = model.fit(X_train, y_train)\n",
    "\n",
    "previsao = reg.predict(X_test)\n",
    "\n",
    "print(avaliar_modelo('Rede neural MLP', y_test, previsao))"
   ]
  },
  {
   "cell_type": "markdown",
   "id": "17dce78c",
   "metadata": {},
   "source": [
    "### 5 camadas e 20 neurônios"
   ]
  },
  {
   "cell_type": "code",
   "execution_count": 49,
   "id": "674fe9ea",
   "metadata": {
    "ExecuteTime": {
     "end_time": "2021-11-24T19:02:26.671122Z",
     "start_time": "2021-11-24T19:02:25.065122Z"
    }
   },
   "outputs": [
    {
     "name": "stdout",
     "output_type": "stream",
     "text": [
      "Modelo: Rede neural MLP\n",
      "R2: 0.35\n",
      "MSE: 0.54\n",
      "RSME: 0.62\n",
      "\n"
     ]
    }
   ],
   "source": [
    "n_layers = 5\n",
    "n_elements_layer = 20\n",
    "layer_size = (n_elements_layer, )\n",
    "for i in range(0,n_layers-1):\n",
    "    layer_size += (n_elements_layer, )\n",
    "\n",
    "model = MLPRegressor(random_state = 42, max_iter = 100000, \n",
    "                     hidden_layer_sizes = layer_size, \n",
    "                     learning_rate = 'adaptive', activation = 'relu')\n",
    "reg = model.fit(X_train, y_train)\n",
    "\n",
    "previsao = reg.predict(X_test)\n",
    "\n",
    "print(avaliar_modelo('Rede neural MLP', y_test, previsao))"
   ]
  },
  {
   "cell_type": "markdown",
   "id": "90bdc242",
   "metadata": {},
   "source": [
    "### 7 camadas e 20 neurônios"
   ]
  },
  {
   "cell_type": "code",
   "execution_count": 50,
   "id": "601703c2",
   "metadata": {
    "ExecuteTime": {
     "end_time": "2021-11-24T19:02:28.791122Z",
     "start_time": "2021-11-24T19:02:26.672122Z"
    }
   },
   "outputs": [
    {
     "name": "stdout",
     "output_type": "stream",
     "text": [
      "Modelo: Rede neural MLP\n",
      "R2: 0.34\n",
      "MSE: 0.55\n",
      "RSME: 0.62\n",
      "\n"
     ]
    }
   ],
   "source": [
    "n_layers = 7\n",
    "n_elements_layer = 20\n",
    "layer_size = (n_elements_layer, )\n",
    "for i in range(0,n_layers-1):\n",
    "    layer_size += (n_elements_layer, )\n",
    "\n",
    "model = MLPRegressor(random_state = 42, max_iter = 100000, \n",
    "                     hidden_layer_sizes = layer_size, \n",
    "                     learning_rate = 'adaptive', activation = 'relu')\n",
    "reg = model.fit(X_train, y_train)\n",
    "\n",
    "previsao = reg.predict(X_test)\n",
    "\n",
    "print(avaliar_modelo('Rede neural MLP', y_test, previsao))"
   ]
  },
  {
   "cell_type": "markdown",
   "id": "6c5174bd",
   "metadata": {},
   "source": [
    "# Conclusão\n",
    "\n",
    "Mesmo após a normalização dos dados de crédito, o resultado ainda foi ruim, com um baixo r². Entre os modelos testados, a hiperparametização do modelo de Gradient Boosting resultou em um modelo com um desempenho semelhante a um modelo de redes neurais com 5 camadas e 20 neurônios por camada."
   ]
  },
  {
   "cell_type": "code",
   "execution_count": null,
   "id": "83f46ad6",
   "metadata": {},
   "outputs": [],
   "source": []
  }
 ],
 "metadata": {
  "hide_input": false,
  "kernelspec": {
   "display_name": "Python 3",
   "language": "python",
   "name": "python3"
  },
  "language_info": {
   "codemirror_mode": {
    "name": "ipython",
    "version": 3
   },
   "file_extension": ".py",
   "mimetype": "text/x-python",
   "name": "python",
   "nbconvert_exporter": "python",
   "pygments_lexer": "ipython3",
   "version": "3.8.8"
  }
 },
 "nbformat": 4,
 "nbformat_minor": 5
}
